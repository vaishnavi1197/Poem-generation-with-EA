{
  "cells": [
    {
      "cell_type": "code",
      "execution_count": 1,
      "metadata": {},
      "outputs": [],
      "source": [
        "# Basic functions created\n",
        "# select_random_words = selects random words\n",
        "# create_poems = merge 4 words to string to get poem like structure\n",
        "# store_syllables = saves the sum of syllables in each verse\n",
        "# Grammer_checker = Check grammar"
      ]
    },
    {
      "cell_type": "code",
      "execution_count": 2,
      "metadata": {},
      "outputs": [],
      "source": [
        "# pip install --upgrade pip\n"
      ]
    },
    {
      "cell_type": "code",
      "execution_count": 3,
      "metadata": {},
      "outputs": [],
      "source": [
        "# pip install language-tool-python\n",
        "# !pip install grammar-check"
      ]
    },
    {
      "cell_type": "code",
      "execution_count": 4,
      "metadata": {
        "colab": {
          "base_uri": "https://localhost:8080/",
          "height": 385
        },
        "id": "1j57T0Tsi-zz",
        "outputId": "1cf7b914-c12e-415f-fc55-99eae54a691e"
      },
      "outputs": [],
      "source": [
        "import syllables \n",
        "import pandas as pd\n",
        "import random\n",
        "import numpy as np\n",
        "import re\n",
        "import language_tool_python\n",
        "# import nltk \n",
        "# import language_check"
      ]
    },
    {
      "cell_type": "code",
      "execution_count": 5,
      "metadata": {},
      "outputs": [
        {
          "name": "stdout",
          "output_type": "stream",
          "text": [
            "334949\n"
          ]
        }
      ],
      "source": [
        "with open(\"Dataset_poems.txt\", \"r\",encoding=\"utf8\") as file:\n",
        "    # Trial_data.txt\n",
        "    # Dataset_poems.txt\n",
        "    temp = []\n",
        "    for line in file:\n",
        "        line1 = re.sub('[^a-zA-Z ]', '', line)\n",
        "        line1 = line1.split()\n",
        "        if line1 != ['', ''] and line1 != ['']:\n",
        "            for i in line1:\n",
        "                if i == '':\n",
        "                    continue\n",
        "                else:\n",
        "                    temp.append(i)\n",
        "words_df = temp "
      ]
    },
    {
      "cell_type": "code",
      "execution_count": 6,
      "metadata": {},
      "outputs": [],
      "source": [
        "# generate random 16 numbers\n",
        "def select_random_words():\n",
        "    words_array1 = []\n",
        "    while len(words_array1) <= 16:\n",
        "        random_number = random.randint(0, len(words_df)-1)\n",
        "        if words_df[random_number] != 0:\n",
        "            words_array1.append(words_df[random_number])\n",
        "    return words_array1"
      ]
    },
    {
      "cell_type": "code",
      "execution_count": 31,
      "metadata": {},
      "outputs": [],
      "source": [
        "def create_poems(arr):\n",
        "  j = 0\n",
        "  poem = [0 for _ in range(4)]\n",
        "  for i in range(1,5):\n",
        "    temp =  arr[4*(i-1):4*i]\n",
        "    poem[i-1] = temp\n",
        "    poem[i-1]=' '.join(poem[i-1])\n",
        "    print(poem[i-1])\n",
        "  print(\"=========================================================\")\n",
        "  return poem"
      ]
    },
    {
      "cell_type": "code",
      "execution_count": 8,
      "metadata": {},
      "outputs": [],
      "source": [
        "def store_syllables(arr):\n",
        "    a = [0 for _ in range(4)]\n",
        "    temp = 0\n",
        "    j = 0\n",
        "    for words,i in zip(arr,range(0,16)):\n",
        "        temp = temp + syllables.estimate(words)\n",
        "        if i in [3,7,11,15]:\n",
        "            a[j] = temp\n",
        "            # print(a[j])\n",
        "            temp = 0\n",
        "            j +=1\n",
        "    return a"
      ]
    },
    {
      "cell_type": "code",
      "execution_count": 105,
      "metadata": {},
      "outputs": [],
      "source": [
        "def Grammer_checker(text):\n",
        "    error = 0\n",
        "    poem_error = []\n",
        "    tool = language_tool_python.LanguageTool('en-US')\n",
        "    for lines in text:\n",
        "        matches = tool.check(lines)\n",
        "        if len(matches)>0:\n",
        "            error = error + matches[0].errorLength\n",
        "    poem_error.append(error)\n",
        "    return poem_error"
      ]
    },
    {
      "cell_type": "code",
      "execution_count": null,
      "metadata": {},
      "outputs": [],
      "source": [
        "# words_array = select_random_words()\n",
        "# poem = create_poems(words_array)\n",
        "# sum_syllables = store_syllables(words_array)"
      ]
    },
    {
      "cell_type": "code",
      "execution_count": 101,
      "metadata": {},
      "outputs": [],
      "source": [
        "def create_set_of_poems(n):\n",
        "    poem_population = []\n",
        "    syllables_count = []\n",
        "    grammer_error = []\n",
        "    for i in range(n):\n",
        "        words_array = select_random_words()\n",
        "        poem = create_poems(words_array)\n",
        "        sum_syllables = store_syllables(words_array)\n",
        "        poem_error = Grammer_checker(poem)\n",
        "        poem_population.append(poem)\n",
        "        syllables_count.append(sum_syllables)\n",
        "        grammer_error.append(poem_error)\n",
        "    Final = np.hstack((poem_population,syllables_count,grammer_error))\n",
        "    Pop_data = pd.DataFrame(Final,columns=[\"Line1\",\"Line2\",\"Line3\",\"Line4\",\"Syllables1\",\"Syllables2\",\"Syllables3\",\"Syllables4\",\"GrammarError\"])\n",
        "    return poem_population,syllables_count,grammer_error,Final,Pop_data\n",
        "\n",
        "\n"
      ]
    },
    {
      "cell_type": "code",
      "execution_count": 106,
      "metadata": {},
      "outputs": [
        {
          "name": "stdout",
          "output_type": "stream",
          "text": [
            "hopeless thy reserve lived\n",
            "ground He breadth little\n",
            "Shine PoorTorn See a\n",
            "clock The bell Not\n",
            "=========================================================\n",
            "when Mr things Maid\n",
            "And hearts unmothered clean\n",
            "storms own upon about\n",
            "nothing few rain pass\n",
            "=========================================================\n"
          ]
        }
      ],
      "source": [
        "poem_population,syllables_count,grammer_error,Final,Population_data = create_set_of_poems(2)"
      ]
    },
    {
      "cell_type": "code",
      "execution_count": 107,
      "metadata": {},
      "outputs": [
        {
          "name": "stdout",
          "output_type": "stream",
          "text": [
            "[['hopeless thy reserve lived', 'ground He breadth little', 'Shine PoorTorn See a', 'clock The bell Not'], ['when Mr things Maid', 'And hearts unmothered clean', 'storms own upon about', 'nothing few rain pass']]\n",
            "[[9, 5, 6, 4], [4, 7, 6, 5]]\n",
            "[[27], [27]]\n"
          ]
        },
        {
          "data": {
            "text/html": [
              "<div>\n",
              "<style scoped>\n",
              "    .dataframe tbody tr th:only-of-type {\n",
              "        vertical-align: middle;\n",
              "    }\n",
              "\n",
              "    .dataframe tbody tr th {\n",
              "        vertical-align: top;\n",
              "    }\n",
              "\n",
              "    .dataframe thead th {\n",
              "        text-align: right;\n",
              "    }\n",
              "</style>\n",
              "<table border=\"1\" class=\"dataframe\">\n",
              "  <thead>\n",
              "    <tr style=\"text-align: right;\">\n",
              "      <th></th>\n",
              "      <th>Line1</th>\n",
              "      <th>Line2</th>\n",
              "      <th>Line3</th>\n",
              "      <th>Line4</th>\n",
              "      <th>Syllables1</th>\n",
              "      <th>Syllables2</th>\n",
              "      <th>Syllables3</th>\n",
              "      <th>Syllables4</th>\n",
              "      <th>GrammarError</th>\n",
              "    </tr>\n",
              "  </thead>\n",
              "  <tbody>\n",
              "    <tr>\n",
              "      <th>0</th>\n",
              "      <td>hopeless thy reserve lived</td>\n",
              "      <td>ground He breadth little</td>\n",
              "      <td>Shine PoorTorn See a</td>\n",
              "      <td>clock The bell Not</td>\n",
              "      <td>9</td>\n",
              "      <td>5</td>\n",
              "      <td>6</td>\n",
              "      <td>4</td>\n",
              "      <td>27</td>\n",
              "    </tr>\n",
              "    <tr>\n",
              "      <th>1</th>\n",
              "      <td>when Mr things Maid</td>\n",
              "      <td>And hearts unmothered clean</td>\n",
              "      <td>storms own upon about</td>\n",
              "      <td>nothing few rain pass</td>\n",
              "      <td>4</td>\n",
              "      <td>7</td>\n",
              "      <td>6</td>\n",
              "      <td>5</td>\n",
              "      <td>27</td>\n",
              "    </tr>\n",
              "  </tbody>\n",
              "</table>\n",
              "</div>"
            ],
            "text/plain": [
              "                        Line1                        Line2  \\\n",
              "0  hopeless thy reserve lived     ground He breadth little   \n",
              "1         when Mr things Maid  And hearts unmothered clean   \n",
              "\n",
              "                   Line3                  Line4 Syllables1 Syllables2  \\\n",
              "0   Shine PoorTorn See a     clock The bell Not          9          5   \n",
              "1  storms own upon about  nothing few rain pass          4          7   \n",
              "\n",
              "  Syllables3 Syllables4 GrammarError  \n",
              "0          6          4           27  \n",
              "1          6          5           27  "
            ]
          },
          "execution_count": 107,
          "metadata": {},
          "output_type": "execute_result"
        }
      ],
      "source": [
        "print(poem_population)\n",
        "print(syllables_count)\n",
        "print(grammer_error)\n",
        "Population_data"
      ]
    },
    {
      "cell_type": "code",
      "execution_count": null,
      "metadata": {},
      "outputs": [],
      "source": [
        "# a = [[11,23,45],[12,23,45]]\n",
        "\n",
        "# b = [[2,3,4],[5,6,7]]\n",
        "# h = np.vstack((a,b))\n",
        "# c = [[8],[9]]\n",
        "# g = np.hstack((a,b,c))\n",
        "# h"
      ]
    }
  ],
  "metadata": {
    "colab": {
      "name": "Untitled7.ipynb",
      "provenance": []
    },
    "kernelspec": {
      "display_name": "Python 3",
      "name": "python3"
    },
    "language_info": {
      "codemirror_mode": {
        "name": "ipython",
        "version": 3
      },
      "file_extension": ".py",
      "mimetype": "text/x-python",
      "name": "python",
      "nbconvert_exporter": "python",
      "pygments_lexer": "ipython3",
      "version": "3.8.8"
    }
  },
  "nbformat": 4,
  "nbformat_minor": 0
}
