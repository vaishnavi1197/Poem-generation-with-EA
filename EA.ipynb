{
  "cells": [
    {
      "cell_type": "code",
      "execution_count": 1,
      "metadata": {},
      "outputs": [],
      "source": [
        "# Basic functions created\n",
        "# select_random_words = selects random words\n",
        "# create_poems = merge 4 words to string to get poem like structure\n",
        "# store_syllables = saves the sum of syllables in each verse\n",
        "# Grammer_checker = Check grammar"
      ]
    },
    {
      "cell_type": "code",
      "execution_count": 2,
      "metadata": {},
      "outputs": [],
      "source": [
        "# pip install --upgrade pip\n"
      ]
    },
    {
      "cell_type": "code",
      "execution_count": 3,
      "metadata": {},
      "outputs": [],
      "source": [
        "# pip install language-tool-python\n",
        "# !pip install grammar-check"
      ]
    },
    {
      "cell_type": "code",
      "execution_count": 4,
      "metadata": {
        "colab": {
          "base_uri": "https://localhost:8080/",
          "height": 385
        },
        "id": "1j57T0Tsi-zz",
        "outputId": "1cf7b914-c12e-415f-fc55-99eae54a691e"
      },
      "outputs": [],
      "source": [
        "import syllables \n",
        "import pandas as pd\n",
        "import random\n",
        "import numpy as np\n",
        "import re\n",
        "import language_tool_python\n",
        "# import nltk \n",
        "# import language_check"
      ]
    },
    {
      "cell_type": "code",
      "execution_count": 5,
      "metadata": {},
      "outputs": [],
      "source": [
        "with open(\"Dataset_poems.txt\", \"r\",encoding=\"utf8\") as file:\n",
        "    # Trial_data.txt\n",
        "    # Dataset_poems.txt\n",
        "    temp = []\n",
        "    for line in file:\n",
        "        line1 = re.sub('[^a-zA-Z ]', '', line)\n",
        "        line1 = line1.split()\n",
        "        if line1 != ['', ''] and line1 != ['']:\n",
        "            for i in line1:\n",
        "                if i == '':\n",
        "                    continue\n",
        "                else:\n",
        "                    temp.append(i)\n",
        "words_df = temp "
      ]
    },
    {
      "cell_type": "code",
      "execution_count": 6,
      "metadata": {},
      "outputs": [],
      "source": [
        "# generate random 16 numbers\n",
        "def select_random_words():\n",
        "    words_array1 = []\n",
        "    while len(words_array1) <= 15:\n",
        "        random_number = random.randint(0, len(words_df)-1)\n",
        "        if words_df[random_number] != 0:\n",
        "            words_array1.append(words_df[random_number])\n",
        "    print(len(words_array1))\n",
        "    return words_array1"
      ]
    },
    {
      "cell_type": "code",
      "execution_count": 7,
      "metadata": {},
      "outputs": [],
      "source": [
        "def create_poems(arr):\n",
        "  j = 0\n",
        "  poem = [0 for _ in range(4)]\n",
        "  for i in range(1,5):\n",
        "    temp =  arr[4*(i-1):4*i]\n",
        "    poem[i-1] = temp\n",
        "    poem[i-1]=' '.join(poem[i-1])\n",
        "    print(poem[i-1])\n",
        "  print(\"=========================================================\")\n",
        "  return poem"
      ]
    },
    {
      "cell_type": "code",
      "execution_count": 8,
      "metadata": {},
      "outputs": [],
      "source": [
        "def store_syllables(arr):\n",
        "    a = [0 for _ in range(4)]\n",
        "    temp = 0\n",
        "    j = 0\n",
        "    for words,i in zip(arr,range(0,16)):\n",
        "        temp = temp + syllables.estimate(words)\n",
        "        if i in [3,7,11,15]:\n",
        "            a[j] = temp\n",
        "            # print(a[j])\n",
        "            temp = 0\n",
        "            j += 1\n",
        "    return a"
      ]
    },
    {
      "cell_type": "code",
      "execution_count": 9,
      "metadata": {},
      "outputs": [],
      "source": [
        "def Grammer_checker(text):\n",
        "    error = 0\n",
        "    poem_error = []\n",
        "    tool = language_tool_python.LanguageTool('en-US')\n",
        "    for lines in text:\n",
        "        matches = tool.check(lines)\n",
        "        if len(matches)>0:\n",
        "            error = error + matches[0].errorLength\n",
        "    poem_error.append(error)\n",
        "    return poem_error"
      ]
    },
    {
      "cell_type": "code",
      "execution_count": 10,
      "metadata": {},
      "outputs": [],
      "source": [
        "# words_array = select_random_words()\n",
        "# poem = create_poems(words_array)\n",
        "# sum_syllables = store_syllables(words_array)"
      ]
    },
    {
      "cell_type": "code",
      "execution_count": 11,
      "metadata": {},
      "outputs": [],
      "source": [
        "def create_set_of_poems(n):\n",
        "    poem_population = []\n",
        "    syllables_count = []\n",
        "    grammer_error = []\n",
        "    words_array_population = []\n",
        "    for i in range(n):\n",
        "        words_array = select_random_words()\n",
        "        poem = create_poems(words_array)\n",
        "        sum_syllables = store_syllables(words_array)\n",
        "        poem_error = Grammer_checker(poem)\n",
        "        poem_population.append(poem)\n",
        "        syllables_count.append(sum_syllables)\n",
        "        grammer_error.append(poem_error)\n",
        "        words_array_population.append(words_array)\n",
        "    Final = np.hstack((poem_population,syllables_count,grammer_error))\n",
        "    Pop_data = pd.DataFrame(Final,columns=[\"Line1\",\"Line2\",\"Line3\",\"Line4\",\"Syllables1\",\"Syllables2\",\"Syllables3\",\"Syllables4\",\"GrammarError\"])\n",
        "    # print(words_array)\n",
        "    return words_array_population,poem_population,syllables_count,grammer_error,Final,Pop_data\n",
        "\n",
        "\n"
      ]
    },
    {
      "cell_type": "code",
      "execution_count": 12,
      "metadata": {},
      "outputs": [],
      "source": [
        "def crossover(p1,p2,cross):\n",
        "    part1 = []\n",
        "    part2 = []\n",
        "    part3 = []\n",
        "    child1 = []\n",
        "    child2 = []\n",
        "    j = 0\n",
        "    k = 0\n",
        "    random_number1 = sorted([random.randint(1, 15) for i in range(cross)])\n",
        "    random_number2 = sorted([random.randint(1, 15) for i in range(cross)])\n",
        "    # print(random_number1)\n",
        "    # print(random_number2)\n",
        "    for i in random_number1:\n",
        "        # print(i)\n",
        "        # print(j)\n",
        "        part1.append(p1[j:i])\n",
        "        j = i\n",
        "        # print(part1)\n",
        "    for i in random_number2:\n",
        "        # print(i)\n",
        "        # print(k)\n",
        "        part2.append(p2[k:i])\n",
        "        k = i\n",
        "        # print(part2)\n",
        "    part1.append(p1[j:])\n",
        "    # print(part1)\n",
        "    # print(len(part1))\n",
        "    part2.append(p2[k:])\n",
        "    # print(part2)\n",
        "    # print(len(part2))\n",
        "    # print(\"-----------\")\n",
        "    part2.extend(part1)\n",
        "    # print(part2)\n",
        "    # print(len(part2))\n",
        "    random.shuffle(part2)\n",
        "    for i in range(len(part2)):\n",
        "        part3.extend(part2[i])\n",
        "    # print(\"-----------\")\n",
        "    # print(part3)\n",
        "    for i in range(int(len(part3)/2)):\n",
        "        child1.append(part3[i])\n",
        "    # print(\"-----------\")\n",
        "    # print(child1)\n",
        "    for i in range(int(len(part3)/2),int(len(part3))):\n",
        "        child2.append(part3[i])\n",
        "    # print(\"-----------\")\n",
        "    # print(child2)\n",
        "    if child1 == p1 or child1 == p2 or child2 == p1 or child2 == p2:\n",
        "        child1, child2,child1_poem,child2_poem = crossover(child1,child2,cross)\n",
        "    child1_poem = create_poems(child1)\n",
        "    child2_poem = create_poems(child2)\n",
        "    \n",
        "    return child1,child2,child1_poem,child2_poem"
      ]
    },
    {
      "cell_type": "code",
      "execution_count": 43,
      "metadata": {},
      "outputs": [],
      "source": [
        "def child_poems(words_array,cross):\n",
        "    child_population = []\n",
        "    syllables_count = []\n",
        "    grammer_error = []\n",
        "    for i in range(0,len(words_array)-1,2):\n",
        "        child1,child2,child1_poem,child2_poem = crossover(words_array[i],words_array[i+1],cross)\n",
        "        child_population.append(child1_poem)\n",
        "        child_population.append(child2_poem)\n",
        "        sum_syllables1 = store_syllables(child1)\n",
        "        sum_syllables2 = store_syllables(child2)\n",
        "        poem_error1 = Grammer_checker(child1_poem)\n",
        "        poem_error2 = Grammer_checker(child2_poem)\n",
        "        syllables_count.append(sum_syllables1)\n",
        "        syllables_count.append(sum_syllables2)\n",
        "        grammer_error.append(poem_error1)\n",
        "        grammer_error.append(poem_error2)\n",
        "    Final1 = np.hstack((child_population,syllables_count,grammer_error))\n",
        "    child_data = pd.DataFrame(Final1,columns=[\"Line1\",\"Line2\",\"Line3\",\"Line4\",\"Syllables1\",\"Syllables2\",\"Syllables3\",\"Syllables4\",\"GrammarError\"])\n",
        "    return child_data\n"
      ]
    },
    {
      "cell_type": "code",
      "execution_count": 31,
      "metadata": {},
      "outputs": [
        {
          "name": "stdout",
          "output_type": "stream",
          "text": [
            "16\n",
            "TICKLE Fixed turned A\n",
            "soon their still were\n",
            "a singing same Withdraw\n",
            "it below by Questions\n",
            "=========================================================\n",
            "16\n",
            "gold This sleep Blue\n",
            "What Decade PORTRAIT back\n",
            "better windowbay his snow\n",
            "had grow shadow my\n",
            "=========================================================\n"
          ]
        }
      ],
      "source": [
        "words_array,poem_population,syllables_count,grammer_error,Final,Population_data = create_set_of_poems(2)"
      ]
    },
    {
      "cell_type": "code",
      "execution_count": 37,
      "metadata": {},
      "outputs": [
        {
          "data": {
            "text/html": [
              "<div>\n",
              "<style scoped>\n",
              "    .dataframe tbody tr th:only-of-type {\n",
              "        vertical-align: middle;\n",
              "    }\n",
              "\n",
              "    .dataframe tbody tr th {\n",
              "        vertical-align: top;\n",
              "    }\n",
              "\n",
              "    .dataframe thead th {\n",
              "        text-align: right;\n",
              "    }\n",
              "</style>\n",
              "<table border=\"1\" class=\"dataframe\">\n",
              "  <thead>\n",
              "    <tr style=\"text-align: right;\">\n",
              "      <th></th>\n",
              "      <th>Line1</th>\n",
              "      <th>Line2</th>\n",
              "      <th>Line3</th>\n",
              "      <th>Line4</th>\n",
              "      <th>Syllables1</th>\n",
              "      <th>Syllables2</th>\n",
              "      <th>Syllables3</th>\n",
              "      <th>Syllables4</th>\n",
              "      <th>GrammarError</th>\n",
              "    </tr>\n",
              "  </thead>\n",
              "  <tbody>\n",
              "    <tr>\n",
              "      <th>0</th>\n",
              "      <td>TICKLE Fixed turned A</td>\n",
              "      <td>soon their still were</td>\n",
              "      <td>a singing same Withdraw</td>\n",
              "      <td>it below by Questions</td>\n",
              "      <td>6</td>\n",
              "      <td>5</td>\n",
              "      <td>6</td>\n",
              "      <td>6</td>\n",
              "      <td>7</td>\n",
              "    </tr>\n",
              "    <tr>\n",
              "      <th>1</th>\n",
              "      <td>gold This sleep Blue</td>\n",
              "      <td>What Decade PORTRAIT back</td>\n",
              "      <td>better windowbay his snow</td>\n",
              "      <td>had grow shadow my</td>\n",
              "      <td>4</td>\n",
              "      <td>6</td>\n",
              "      <td>7</td>\n",
              "      <td>5</td>\n",
              "      <td>13</td>\n",
              "    </tr>\n",
              "  </tbody>\n",
              "</table>\n",
              "</div>"
            ],
            "text/plain": [
              "                   Line1                      Line2  \\\n",
              "0  TICKLE Fixed turned A      soon their still were   \n",
              "1   gold This sleep Blue  What Decade PORTRAIT back   \n",
              "\n",
              "                       Line3                  Line4 Syllables1 Syllables2  \\\n",
              "0    a singing same Withdraw  it below by Questions          6          5   \n",
              "1  better windowbay his snow     had grow shadow my          4          6   \n",
              "\n",
              "  Syllables3 Syllables4 GrammarError  \n",
              "0          6          6            7  \n",
              "1          7          5           13  "
            ]
          },
          "execution_count": 37,
          "metadata": {},
          "output_type": "execute_result"
        }
      ],
      "source": [
        "Population_data"
      ]
    },
    {
      "cell_type": "code",
      "execution_count": 41,
      "metadata": {},
      "outputs": [
        {
          "name": "stdout",
          "output_type": "stream",
          "text": [
            "windowbay his snow had\n",
            "grow shadow gold This\n",
            "sleep Blue What Decade\n",
            "PORTRAIT back better still\n",
            "=========================================================\n",
            "were a singing same\n",
            "Withdraw it below by\n",
            "Questions turned A soon\n",
            "their TICKLE Fixed my\n",
            "=========================================================\n",
            "--------\n",
            "[['windowbay his snow had', 'grow shadow gold This', 'sleep Blue What Decade', 'PORTRAIT back better still'], ['were a singing same', 'Withdraw it below by', 'Questions turned A soon', 'their TICKLE Fixed my']]\n",
            "--------\n",
            "1\n",
            "[[6, 5, 6, 5], [6, 6, 6, 5]]\n",
            "2\n",
            "[[18], [9]]\n",
            "3\n",
            "[[6, 5, 6, 5], [6, 6, 6, 5]]\n",
            "4\n",
            "[[18], [9]]\n",
            "5\n"
          ]
        }
      ],
      "source": [
        "child_population = child_poems(words_array,2)\n"
      ]
    },
    {
      "cell_type": "code",
      "execution_count": 42,
      "metadata": {},
      "outputs": [
        {
          "data": {
            "text/html": [
              "<div>\n",
              "<style scoped>\n",
              "    .dataframe tbody tr th:only-of-type {\n",
              "        vertical-align: middle;\n",
              "    }\n",
              "\n",
              "    .dataframe tbody tr th {\n",
              "        vertical-align: top;\n",
              "    }\n",
              "\n",
              "    .dataframe thead th {\n",
              "        text-align: right;\n",
              "    }\n",
              "</style>\n",
              "<table border=\"1\" class=\"dataframe\">\n",
              "  <thead>\n",
              "    <tr style=\"text-align: right;\">\n",
              "      <th></th>\n",
              "      <th>Line1</th>\n",
              "      <th>Line2</th>\n",
              "      <th>Line3</th>\n",
              "      <th>Line4</th>\n",
              "      <th>Syllables1</th>\n",
              "      <th>Syllables2</th>\n",
              "      <th>Syllables3</th>\n",
              "      <th>Syllables4</th>\n",
              "      <th>GrammarError</th>\n",
              "    </tr>\n",
              "  </thead>\n",
              "  <tbody>\n",
              "    <tr>\n",
              "      <th>0</th>\n",
              "      <td>windowbay his snow had</td>\n",
              "      <td>grow shadow gold This</td>\n",
              "      <td>sleep Blue What Decade</td>\n",
              "      <td>PORTRAIT back better still</td>\n",
              "      <td>6</td>\n",
              "      <td>5</td>\n",
              "      <td>6</td>\n",
              "      <td>5</td>\n",
              "      <td>18</td>\n",
              "    </tr>\n",
              "    <tr>\n",
              "      <th>1</th>\n",
              "      <td>were a singing same</td>\n",
              "      <td>Withdraw it below by</td>\n",
              "      <td>Questions turned A soon</td>\n",
              "      <td>their TICKLE Fixed my</td>\n",
              "      <td>6</td>\n",
              "      <td>6</td>\n",
              "      <td>6</td>\n",
              "      <td>5</td>\n",
              "      <td>9</td>\n",
              "    </tr>\n",
              "  </tbody>\n",
              "</table>\n",
              "</div>"
            ],
            "text/plain": [
              "                    Line1                  Line2                    Line3  \\\n",
              "0  windowbay his snow had  grow shadow gold This   sleep Blue What Decade   \n",
              "1     were a singing same   Withdraw it below by  Questions turned A soon   \n",
              "\n",
              "                        Line4 Syllables1 Syllables2 Syllables3 Syllables4  \\\n",
              "0  PORTRAIT back better still          6          5          6          5   \n",
              "1       their TICKLE Fixed my          6          6          6          5   \n",
              "\n",
              "  GrammarError  \n",
              "0           18  \n",
              "1            9  "
            ]
          },
          "execution_count": 42,
          "metadata": {},
          "output_type": "execute_result"
        }
      ],
      "source": [
        "child_population"
      ]
    },
    {
      "cell_type": "code",
      "execution_count": null,
      "metadata": {},
      "outputs": [],
      "source": [
        "# a = [[11,23,45],[12,23,45]]\n",
        "\n",
        "# b = [[2,3,4],[5,6,7]]\n",
        "# h = np.vstack((a,b))\n",
        "# c = [[8],[9]]\n",
        "# g = np.hstack((a,b,c))\n",
        "# h"
      ]
    }
  ],
  "metadata": {
    "colab": {
      "name": "Untitled7.ipynb",
      "provenance": []
    },
    "kernelspec": {
      "display_name": "Python 3",
      "name": "python3"
    },
    "language_info": {
      "codemirror_mode": {
        "name": "ipython",
        "version": 3
      },
      "file_extension": ".py",
      "mimetype": "text/x-python",
      "name": "python",
      "nbconvert_exporter": "python",
      "pygments_lexer": "ipython3",
      "version": "3.8.8"
    }
  },
  "nbformat": 4,
  "nbformat_minor": 0
}
