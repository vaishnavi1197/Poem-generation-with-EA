{
  "cells": [
    {
      "cell_type": "code",
      "execution_count": 12,
      "metadata": {
        "colab": {
          "base_uri": "https://localhost:8080/",
          "height": 385
        },
        "id": "1j57T0Tsi-zz",
        "outputId": "1cf7b914-c12e-415f-fc55-99eae54a691e"
      },
      "outputs": [],
      "source": [
        "import syllables \n",
        "import pandas as pd\n",
        "import random"
      ]
    },
    {
      "cell_type": "code",
      "execution_count": 8,
      "metadata": {},
      "outputs": [],
      "source": [
        "words_df = pd.read_csv('words.csv')"
      ]
    },
    {
      "cell_type": "code",
      "execution_count": 9,
      "metadata": {},
      "outputs": [
        {
          "data": {
            "text/plain": [
              "pandas.core.frame.DataFrame"
            ]
          },
          "execution_count": 9,
          "metadata": {},
          "output_type": "execute_result"
        }
      ],
      "source": [
        "type(words_df)"
      ]
    },
    {
      "cell_type": "code",
      "execution_count": 10,
      "metadata": {},
      "outputs": [
        {
          "name": "stdout",
          "output_type": "stream",
          "text": [
            "           word  freq             pos  syll\n",
            "0        people   372            noun     2\n",
            "1       history   187            noun     3\n",
            "2           way   185            noun     1\n",
            "3           art   183            noun     1\n",
            "4         world   169            noun     1\n",
            "...         ...   ...             ...   ...\n",
            "1520  temporary     1  adjective,noun     4\n",
            "1521   tomorrow     1     adverb,noun     3\n",
            "1522       wake     1       verb,noun     1\n",
            "1523       wrap     1       verb,noun     1\n",
            "1524  yesterday     1     adverb,noun     3\n",
            "\n",
            "[1525 rows x 4 columns]\n"
          ]
        }
      ],
      "source": [
        "print(words_df)"
      ]
    },
    {
      "cell_type": "code",
      "execution_count": 13,
      "metadata": {},
      "outputs": [
        {
          "name": "stdout",
          "output_type": "stream",
          "text": [
            "[12, 277, 118, 436, 707, 1404, 685, 403, 661, 1006, 285, 434, 206, 776, 676, 1045]\n"
          ]
        }
      ],
      "source": [
        "# generate random 16 numbers\n",
        "random_wordchoice = [random.randint(0, len(words_df)) for p in range(0, 16)]\n",
        "print(random_wordchoice)"
      ]
    },
    {
      "cell_type": "code",
      "execution_count": 14,
      "metadata": {},
      "outputs": [],
      "source": [
        "words_array = [0 for _ in range(16)]\n",
        "i = 0\n",
        "for word_index in random_wordchoice:\n",
        "  words_array[i] = words_df[\"word\"][word_index]\n",
        "  i +=1"
      ]
    },
    {
      "cell_type": "code",
      "execution_count": 17,
      "metadata": {},
      "outputs": [],
      "source": [
        "def create_poems(arr):\n",
        "  j = 0\n",
        "  poem = [0 for _ in range(4)]\n",
        "  for i in range(1,5):\n",
        "    temp =  arr[4*(i-1):4*i]\n",
        "    poem[i-1] = temp\n",
        "    # print(poem[i-1])\n",
        "    verse=' '.join(poem[i-1])\n",
        "    print(verse)"
      ]
    },
    {
      "cell_type": "code",
      "execution_count": 18,
      "metadata": {},
      "outputs": [
        {
          "name": "stdout",
          "output_type": "stream",
          "text": [
            "computer candidate soup ambition\n",
            "shot combine table courage\n",
            "view pound employer wedding\n",
            "resource plenty tool row\n"
          ]
        }
      ],
      "source": [
        "create_poems(words_array)"
      ]
    },
    {
      "cell_type": "code",
      "execution_count": null,
      "metadata": {},
      "outputs": [],
      "source": []
    }
  ],
  "metadata": {
    "colab": {
      "name": "Untitled7.ipynb",
      "provenance": []
    },
    "kernelspec": {
      "display_name": "Python 3",
      "name": "python3"
    },
    "language_info": {
      "codemirror_mode": {
        "name": "ipython",
        "version": 3
      },
      "file_extension": ".py",
      "mimetype": "text/x-python",
      "name": "python",
      "nbconvert_exporter": "python",
      "pygments_lexer": "ipython3",
      "version": "3.8.8"
    }
  },
  "nbformat": 4,
  "nbformat_minor": 0
}
